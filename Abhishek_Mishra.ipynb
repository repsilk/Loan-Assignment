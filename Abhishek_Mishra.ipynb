{
 "cells": [
  {
   "cell_type": "markdown",
   "id": "4bcbaeab",
   "metadata": {},
   "source": [
    "### Results\n",
    " - [UniVariate Analysis](#Uni-Variate-Observations)\n",
    " - [BiVariateAnalysis](#Bi-Variate-Observations)\n",
    "\n",
    "\n",
    "[References](#References)"
   ]
  },
  {
   "cell_type": "code",
   "execution_count": 1,
   "id": "28c90ff6",
   "metadata": {},
   "outputs": [],
   "source": [
    "import pandas as pd\n",
    "import numpy as np\n",
    "import seaborn as sns\n",
    "import matplotlib.pyplot as plt\n",
    "\n",
    "### to remove ignore warnings\n",
    "import warnings\n",
    "warnings.filterwarnings('ignore')"
   ]
  },
  {
   "cell_type": "code",
   "execution_count": 2,
   "id": "8f66d6f5",
   "metadata": {},
   "outputs": [],
   "source": [
    "dataset = pd.read_csv('loan.csv')"
   ]
  },
  {
   "cell_type": "markdown",
   "id": "4d463862",
   "metadata": {},
   "source": [
    "# Cleaning Dataset"
   ]
  },
  {
   "cell_type": "code",
   "execution_count": 3,
   "id": "2a170951",
   "metadata": {},
   "outputs": [
    {
     "data": {
      "text/plain": [
       "(39717, 111)"
      ]
     },
     "execution_count": 3,
     "metadata": {},
     "output_type": "execute_result"
    }
   ],
   "source": [
    "dataset.shape"
   ]
  },
  {
   "cell_type": "code",
   "execution_count": 4,
   "id": "99b57d8a",
   "metadata": {},
   "outputs": [
    {
     "data": {
      "text/html": [
       "<div>\n",
       "<style scoped>\n",
       "    .dataframe tbody tr th:only-of-type {\n",
       "        vertical-align: middle;\n",
       "    }\n",
       "\n",
       "    .dataframe tbody tr th {\n",
       "        vertical-align: top;\n",
       "    }\n",
       "\n",
       "    .dataframe thead th {\n",
       "        text-align: right;\n",
       "    }\n",
       "</style>\n",
       "<table border=\"1\" class=\"dataframe\">\n",
       "  <thead>\n",
       "    <tr style=\"text-align: right;\">\n",
       "      <th></th>\n",
       "      <th>id</th>\n",
       "      <th>member_id</th>\n",
       "      <th>loan_amnt</th>\n",
       "      <th>funded_amnt</th>\n",
       "      <th>funded_amnt_inv</th>\n",
       "      <th>term</th>\n",
       "      <th>int_rate</th>\n",
       "      <th>installment</th>\n",
       "      <th>grade</th>\n",
       "      <th>sub_grade</th>\n",
       "      <th>...</th>\n",
       "      <th>num_tl_90g_dpd_24m</th>\n",
       "      <th>num_tl_op_past_12m</th>\n",
       "      <th>pct_tl_nvr_dlq</th>\n",
       "      <th>percent_bc_gt_75</th>\n",
       "      <th>pub_rec_bankruptcies</th>\n",
       "      <th>tax_liens</th>\n",
       "      <th>tot_hi_cred_lim</th>\n",
       "      <th>total_bal_ex_mort</th>\n",
       "      <th>total_bc_limit</th>\n",
       "      <th>total_il_high_credit_limit</th>\n",
       "    </tr>\n",
       "  </thead>\n",
       "  <tbody>\n",
       "    <tr>\n",
       "      <th>0</th>\n",
       "      <td>1077501</td>\n",
       "      <td>1296599</td>\n",
       "      <td>5000</td>\n",
       "      <td>5000</td>\n",
       "      <td>4975.0</td>\n",
       "      <td>36 months</td>\n",
       "      <td>10.65%</td>\n",
       "      <td>162.87</td>\n",
       "      <td>B</td>\n",
       "      <td>B2</td>\n",
       "      <td>...</td>\n",
       "      <td>NaN</td>\n",
       "      <td>NaN</td>\n",
       "      <td>NaN</td>\n",
       "      <td>NaN</td>\n",
       "      <td>0.0</td>\n",
       "      <td>0.0</td>\n",
       "      <td>NaN</td>\n",
       "      <td>NaN</td>\n",
       "      <td>NaN</td>\n",
       "      <td>NaN</td>\n",
       "    </tr>\n",
       "    <tr>\n",
       "      <th>1</th>\n",
       "      <td>1077430</td>\n",
       "      <td>1314167</td>\n",
       "      <td>2500</td>\n",
       "      <td>2500</td>\n",
       "      <td>2500.0</td>\n",
       "      <td>60 months</td>\n",
       "      <td>15.27%</td>\n",
       "      <td>59.83</td>\n",
       "      <td>C</td>\n",
       "      <td>C4</td>\n",
       "      <td>...</td>\n",
       "      <td>NaN</td>\n",
       "      <td>NaN</td>\n",
       "      <td>NaN</td>\n",
       "      <td>NaN</td>\n",
       "      <td>0.0</td>\n",
       "      <td>0.0</td>\n",
       "      <td>NaN</td>\n",
       "      <td>NaN</td>\n",
       "      <td>NaN</td>\n",
       "      <td>NaN</td>\n",
       "    </tr>\n",
       "    <tr>\n",
       "      <th>2</th>\n",
       "      <td>1077175</td>\n",
       "      <td>1313524</td>\n",
       "      <td>2400</td>\n",
       "      <td>2400</td>\n",
       "      <td>2400.0</td>\n",
       "      <td>36 months</td>\n",
       "      <td>15.96%</td>\n",
       "      <td>84.33</td>\n",
       "      <td>C</td>\n",
       "      <td>C5</td>\n",
       "      <td>...</td>\n",
       "      <td>NaN</td>\n",
       "      <td>NaN</td>\n",
       "      <td>NaN</td>\n",
       "      <td>NaN</td>\n",
       "      <td>0.0</td>\n",
       "      <td>0.0</td>\n",
       "      <td>NaN</td>\n",
       "      <td>NaN</td>\n",
       "      <td>NaN</td>\n",
       "      <td>NaN</td>\n",
       "    </tr>\n",
       "    <tr>\n",
       "      <th>3</th>\n",
       "      <td>1076863</td>\n",
       "      <td>1277178</td>\n",
       "      <td>10000</td>\n",
       "      <td>10000</td>\n",
       "      <td>10000.0</td>\n",
       "      <td>36 months</td>\n",
       "      <td>13.49%</td>\n",
       "      <td>339.31</td>\n",
       "      <td>C</td>\n",
       "      <td>C1</td>\n",
       "      <td>...</td>\n",
       "      <td>NaN</td>\n",
       "      <td>NaN</td>\n",
       "      <td>NaN</td>\n",
       "      <td>NaN</td>\n",
       "      <td>0.0</td>\n",
       "      <td>0.0</td>\n",
       "      <td>NaN</td>\n",
       "      <td>NaN</td>\n",
       "      <td>NaN</td>\n",
       "      <td>NaN</td>\n",
       "    </tr>\n",
       "    <tr>\n",
       "      <th>4</th>\n",
       "      <td>1075358</td>\n",
       "      <td>1311748</td>\n",
       "      <td>3000</td>\n",
       "      <td>3000</td>\n",
       "      <td>3000.0</td>\n",
       "      <td>60 months</td>\n",
       "      <td>12.69%</td>\n",
       "      <td>67.79</td>\n",
       "      <td>B</td>\n",
       "      <td>B5</td>\n",
       "      <td>...</td>\n",
       "      <td>NaN</td>\n",
       "      <td>NaN</td>\n",
       "      <td>NaN</td>\n",
       "      <td>NaN</td>\n",
       "      <td>0.0</td>\n",
       "      <td>0.0</td>\n",
       "      <td>NaN</td>\n",
       "      <td>NaN</td>\n",
       "      <td>NaN</td>\n",
       "      <td>NaN</td>\n",
       "    </tr>\n",
       "    <tr>\n",
       "      <th>5</th>\n",
       "      <td>1075269</td>\n",
       "      <td>1311441</td>\n",
       "      <td>5000</td>\n",
       "      <td>5000</td>\n",
       "      <td>5000.0</td>\n",
       "      <td>36 months</td>\n",
       "      <td>7.90%</td>\n",
       "      <td>156.46</td>\n",
       "      <td>A</td>\n",
       "      <td>A4</td>\n",
       "      <td>...</td>\n",
       "      <td>NaN</td>\n",
       "      <td>NaN</td>\n",
       "      <td>NaN</td>\n",
       "      <td>NaN</td>\n",
       "      <td>0.0</td>\n",
       "      <td>0.0</td>\n",
       "      <td>NaN</td>\n",
       "      <td>NaN</td>\n",
       "      <td>NaN</td>\n",
       "      <td>NaN</td>\n",
       "    </tr>\n",
       "    <tr>\n",
       "      <th>6</th>\n",
       "      <td>1069639</td>\n",
       "      <td>1304742</td>\n",
       "      <td>7000</td>\n",
       "      <td>7000</td>\n",
       "      <td>7000.0</td>\n",
       "      <td>60 months</td>\n",
       "      <td>15.96%</td>\n",
       "      <td>170.08</td>\n",
       "      <td>C</td>\n",
       "      <td>C5</td>\n",
       "      <td>...</td>\n",
       "      <td>NaN</td>\n",
       "      <td>NaN</td>\n",
       "      <td>NaN</td>\n",
       "      <td>NaN</td>\n",
       "      <td>0.0</td>\n",
       "      <td>0.0</td>\n",
       "      <td>NaN</td>\n",
       "      <td>NaN</td>\n",
       "      <td>NaN</td>\n",
       "      <td>NaN</td>\n",
       "    </tr>\n",
       "    <tr>\n",
       "      <th>7</th>\n",
       "      <td>1072053</td>\n",
       "      <td>1288686</td>\n",
       "      <td>3000</td>\n",
       "      <td>3000</td>\n",
       "      <td>3000.0</td>\n",
       "      <td>36 months</td>\n",
       "      <td>18.64%</td>\n",
       "      <td>109.43</td>\n",
       "      <td>E</td>\n",
       "      <td>E1</td>\n",
       "      <td>...</td>\n",
       "      <td>NaN</td>\n",
       "      <td>NaN</td>\n",
       "      <td>NaN</td>\n",
       "      <td>NaN</td>\n",
       "      <td>0.0</td>\n",
       "      <td>0.0</td>\n",
       "      <td>NaN</td>\n",
       "      <td>NaN</td>\n",
       "      <td>NaN</td>\n",
       "      <td>NaN</td>\n",
       "    </tr>\n",
       "    <tr>\n",
       "      <th>8</th>\n",
       "      <td>1071795</td>\n",
       "      <td>1306957</td>\n",
       "      <td>5600</td>\n",
       "      <td>5600</td>\n",
       "      <td>5600.0</td>\n",
       "      <td>60 months</td>\n",
       "      <td>21.28%</td>\n",
       "      <td>152.39</td>\n",
       "      <td>F</td>\n",
       "      <td>F2</td>\n",
       "      <td>...</td>\n",
       "      <td>NaN</td>\n",
       "      <td>NaN</td>\n",
       "      <td>NaN</td>\n",
       "      <td>NaN</td>\n",
       "      <td>0.0</td>\n",
       "      <td>0.0</td>\n",
       "      <td>NaN</td>\n",
       "      <td>NaN</td>\n",
       "      <td>NaN</td>\n",
       "      <td>NaN</td>\n",
       "    </tr>\n",
       "    <tr>\n",
       "      <th>9</th>\n",
       "      <td>1071570</td>\n",
       "      <td>1306721</td>\n",
       "      <td>5375</td>\n",
       "      <td>5375</td>\n",
       "      <td>5350.0</td>\n",
       "      <td>60 months</td>\n",
       "      <td>12.69%</td>\n",
       "      <td>121.45</td>\n",
       "      <td>B</td>\n",
       "      <td>B5</td>\n",
       "      <td>...</td>\n",
       "      <td>NaN</td>\n",
       "      <td>NaN</td>\n",
       "      <td>NaN</td>\n",
       "      <td>NaN</td>\n",
       "      <td>0.0</td>\n",
       "      <td>0.0</td>\n",
       "      <td>NaN</td>\n",
       "      <td>NaN</td>\n",
       "      <td>NaN</td>\n",
       "      <td>NaN</td>\n",
       "    </tr>\n",
       "  </tbody>\n",
       "</table>\n",
       "<p>10 rows × 111 columns</p>\n",
       "</div>"
      ],
      "text/plain": [
       "        id  member_id  loan_amnt  funded_amnt  funded_amnt_inv        term  \\\n",
       "0  1077501    1296599       5000         5000           4975.0   36 months   \n",
       "1  1077430    1314167       2500         2500           2500.0   60 months   \n",
       "2  1077175    1313524       2400         2400           2400.0   36 months   \n",
       "3  1076863    1277178      10000        10000          10000.0   36 months   \n",
       "4  1075358    1311748       3000         3000           3000.0   60 months   \n",
       "5  1075269    1311441       5000         5000           5000.0   36 months   \n",
       "6  1069639    1304742       7000         7000           7000.0   60 months   \n",
       "7  1072053    1288686       3000         3000           3000.0   36 months   \n",
       "8  1071795    1306957       5600         5600           5600.0   60 months   \n",
       "9  1071570    1306721       5375         5375           5350.0   60 months   \n",
       "\n",
       "  int_rate  installment grade sub_grade  ... num_tl_90g_dpd_24m  \\\n",
       "0   10.65%       162.87     B        B2  ...                NaN   \n",
       "1   15.27%        59.83     C        C4  ...                NaN   \n",
       "2   15.96%        84.33     C        C5  ...                NaN   \n",
       "3   13.49%       339.31     C        C1  ...                NaN   \n",
       "4   12.69%        67.79     B        B5  ...                NaN   \n",
       "5    7.90%       156.46     A        A4  ...                NaN   \n",
       "6   15.96%       170.08     C        C5  ...                NaN   \n",
       "7   18.64%       109.43     E        E1  ...                NaN   \n",
       "8   21.28%       152.39     F        F2  ...                NaN   \n",
       "9   12.69%       121.45     B        B5  ...                NaN   \n",
       "\n",
       "  num_tl_op_past_12m pct_tl_nvr_dlq  percent_bc_gt_75 pub_rec_bankruptcies  \\\n",
       "0                NaN            NaN               NaN                  0.0   \n",
       "1                NaN            NaN               NaN                  0.0   \n",
       "2                NaN            NaN               NaN                  0.0   \n",
       "3                NaN            NaN               NaN                  0.0   \n",
       "4                NaN            NaN               NaN                  0.0   \n",
       "5                NaN            NaN               NaN                  0.0   \n",
       "6                NaN            NaN               NaN                  0.0   \n",
       "7                NaN            NaN               NaN                  0.0   \n",
       "8                NaN            NaN               NaN                  0.0   \n",
       "9                NaN            NaN               NaN                  0.0   \n",
       "\n",
       "  tax_liens tot_hi_cred_lim total_bal_ex_mort total_bc_limit  \\\n",
       "0       0.0             NaN               NaN            NaN   \n",
       "1       0.0             NaN               NaN            NaN   \n",
       "2       0.0             NaN               NaN            NaN   \n",
       "3       0.0             NaN               NaN            NaN   \n",
       "4       0.0             NaN               NaN            NaN   \n",
       "5       0.0             NaN               NaN            NaN   \n",
       "6       0.0             NaN               NaN            NaN   \n",
       "7       0.0             NaN               NaN            NaN   \n",
       "8       0.0             NaN               NaN            NaN   \n",
       "9       0.0             NaN               NaN            NaN   \n",
       "\n",
       "  total_il_high_credit_limit  \n",
       "0                        NaN  \n",
       "1                        NaN  \n",
       "2                        NaN  \n",
       "3                        NaN  \n",
       "4                        NaN  \n",
       "5                        NaN  \n",
       "6                        NaN  \n",
       "7                        NaN  \n",
       "8                        NaN  \n",
       "9                        NaN  \n",
       "\n",
       "[10 rows x 111 columns]"
      ]
     },
     "execution_count": 4,
     "metadata": {},
     "output_type": "execute_result"
    }
   ],
   "source": [
    "dataset.head(10)"
   ]
  },
  {
   "cell_type": "markdown",
   "id": "d5704a02",
   "metadata": {},
   "source": [
    "### Looks like dataset is having lot of Null values, lets look into them"
   ]
  },
  {
   "cell_type": "code",
   "execution_count": 5,
   "id": "5600f871",
   "metadata": {},
   "outputs": [
    {
     "data": {
      "text/plain": [
       "id                                0\n",
       "member_id                         0\n",
       "loan_amnt                         0\n",
       "funded_amnt                       0\n",
       "funded_amnt_inv                   0\n",
       "                              ...  \n",
       "tax_liens                        39\n",
       "tot_hi_cred_lim               39717\n",
       "total_bal_ex_mort             39717\n",
       "total_bc_limit                39717\n",
       "total_il_high_credit_limit    39717\n",
       "Length: 111, dtype: int64"
      ]
     },
     "execution_count": 5,
     "metadata": {},
     "output_type": "execute_result"
    }
   ],
   "source": [
    "dataset.isnull().sum()"
   ]
  },
  {
   "cell_type": "markdown",
   "id": "d2b32166",
   "metadata": {},
   "source": [
    "### here we can observer that given dataset is having empty/null values, remove them first\n",
    " - remove the columns having all null values across all the rows\n",
    " - inplace the result dataset\n",
    " \n",
    " **Note: here we have to specify the how=\"all\" in dropna method, because by default it how=\"any\" which means remove the whole columns if any one of the row has null value (this is dangerous/leads to incorrect data)[ref](#References)**"
   ]
  },
  {
   "cell_type": "code",
   "execution_count": 6,
   "id": "c412da49",
   "metadata": {},
   "outputs": [],
   "source": [
    "dataset.dropna(axis=1, how=\"all\", inplace=True)"
   ]
  },
  {
   "cell_type": "code",
   "execution_count": 7,
   "id": "43ddac87",
   "metadata": {},
   "outputs": [
    {
     "data": {
      "text/plain": [
       "id                                0\n",
       "member_id                         0\n",
       "loan_amnt                         0\n",
       "funded_amnt                       0\n",
       "funded_amnt_inv                   0\n",
       "term                              0\n",
       "int_rate                          0\n",
       "installment                       0\n",
       "grade                             0\n",
       "sub_grade                         0\n",
       "emp_title                      2459\n",
       "emp_length                     1075\n",
       "home_ownership                    0\n",
       "annual_inc                        0\n",
       "verification_status               0\n",
       "issue_d                           0\n",
       "loan_status                       0\n",
       "pymnt_plan                        0\n",
       "url                               0\n",
       "desc                          12940\n",
       "purpose                           0\n",
       "title                            11\n",
       "zip_code                          0\n",
       "addr_state                        0\n",
       "dti                               0\n",
       "delinq_2yrs                       0\n",
       "earliest_cr_line                  0\n",
       "inq_last_6mths                    0\n",
       "mths_since_last_delinq        25682\n",
       "mths_since_last_record        36931\n",
       "open_acc                          0\n",
       "pub_rec                           0\n",
       "revol_bal                         0\n",
       "revol_util                       50\n",
       "total_acc                         0\n",
       "initial_list_status               0\n",
       "out_prncp                         0\n",
       "out_prncp_inv                     0\n",
       "total_pymnt                       0\n",
       "total_pymnt_inv                   0\n",
       "total_rec_prncp                   0\n",
       "total_rec_int                     0\n",
       "total_rec_late_fee                0\n",
       "recoveries                        0\n",
       "collection_recovery_fee           0\n",
       "last_pymnt_d                     71\n",
       "last_pymnt_amnt                   0\n",
       "next_pymnt_d                  38577\n",
       "last_credit_pull_d                2\n",
       "collections_12_mths_ex_med       56\n",
       "policy_code                       0\n",
       "application_type                  0\n",
       "acc_now_delinq                    0\n",
       "chargeoff_within_12_mths         56\n",
       "delinq_amnt                       0\n",
       "pub_rec_bankruptcies            697\n",
       "tax_liens                        39\n",
       "dtype: int64"
      ]
     },
     "execution_count": 7,
     "metadata": {},
     "output_type": "execute_result"
    }
   ],
   "source": [
    "dataset.isnull().sum()"
   ]
  },
  {
   "cell_type": "markdown",
   "id": "bfb6a524",
   "metadata": {},
   "source": [
    "### from the above information, following fields are out of analysis\n",
    " - url\n",
    " - title\n",
    " - emp_title\n",
    " - zip_code\n",
    " - addr_state\n",
    " - desc\n",
    " \n",
    " **Deleting the above columns**"
   ]
  },
  {
   "cell_type": "code",
   "execution_count": 8,
   "id": "e5b0022a",
   "metadata": {},
   "outputs": [],
   "source": [
    "dataset.drop([\"url\",\"title\", \"emp_title\", \"zip_code\",\"addr_state\",\"desc\"], axis=1, inplace=True)"
   ]
  },
  {
   "cell_type": "code",
   "execution_count": 9,
   "id": "4733abda",
   "metadata": {},
   "outputs": [
    {
     "data": {
      "text/plain": [
       "(39717, 51)"
      ]
     },
     "execution_count": 9,
     "metadata": {},
     "output_type": "execute_result"
    }
   ],
   "source": [
    "dataset.shape"
   ]
  },
  {
   "cell_type": "markdown",
   "id": "763e16a9",
   "metadata": {},
   "source": [
    "## Removing un-neccessary columns\n",
    "\n",
    "### some of the columns contains the unique value for all rows, such columns are not useful for analysis\n",
    "**filtering the unique values of all columns and its length == 1**\n",
    " - pymnt_plan\n",
    " - initial_list_status\n",
    " - policy_code\n",
    " - application_type\n",
    " - acc_now_delinq\n",
    " - delinq_amnt\n",
    " \n",
    "**following columns are not useful for analysis**\n",
    " - tax_liens\n",
    " - pub_rec_bankrupties\n",
    " - chargeoff_within_12_mths\n",
    " - last_pymnt_d\n",
    " - next_pymnt_d"
   ]
  },
  {
   "cell_type": "code",
   "execution_count": 10,
   "id": "fed47788",
   "metadata": {},
   "outputs": [
    {
     "data": {
      "text/plain": [
       "['pymnt_plan',\n",
       " 'initial_list_status',\n",
       " 'policy_code',\n",
       " 'application_type',\n",
       " 'acc_now_delinq',\n",
       " 'delinq_amnt']"
      ]
     },
     "execution_count": 10,
     "metadata": {},
     "output_type": "execute_result"
    }
   ],
   "source": [
    "# function to find unique values\n",
    "drop_list_1 = list()\n",
    "for i in dataset.columns:\n",
    "    if len(dataset[i].unique())==1:\n",
    "        drop_list_1.append(i)\n",
    "        \n",
    "drop_list_1"
   ]
  },
  {
   "cell_type": "code",
   "execution_count": 11,
   "id": "8ffd20d4",
   "metadata": {
    "scrolled": true
   },
   "outputs": [
    {
     "data": {
      "text/plain": [
       "(39717, 39)"
      ]
     },
     "execution_count": 11,
     "metadata": {},
     "output_type": "execute_result"
    }
   ],
   "source": [
    "dataset.drop(drop_list_1, axis=1, inplace=True)\n",
    "dataset.drop([\"tax_liens\", \"pub_rec_bankruptcies\", \"chargeoff_within_12_mths\", \"collections_12_mths_ex_med\", \"last_credit_pull_d\", \"last_pymnt_d\"], axis=1, inplace=True)\n",
    "dataset.shape"
   ]
  },
  {
   "cell_type": "code",
   "execution_count": 12,
   "id": "d01308d2",
   "metadata": {},
   "outputs": [
    {
     "data": {
      "text/plain": [
       "id                             0\n",
       "member_id                      0\n",
       "loan_amnt                      0\n",
       "funded_amnt                    0\n",
       "funded_amnt_inv                0\n",
       "term                           0\n",
       "int_rate                       0\n",
       "installment                    0\n",
       "grade                          0\n",
       "sub_grade                      0\n",
       "emp_length                  1075\n",
       "home_ownership                 0\n",
       "annual_inc                     0\n",
       "verification_status            0\n",
       "issue_d                        0\n",
       "loan_status                    0\n",
       "purpose                        0\n",
       "dti                            0\n",
       "delinq_2yrs                    0\n",
       "earliest_cr_line               0\n",
       "inq_last_6mths                 0\n",
       "mths_since_last_delinq     25682\n",
       "mths_since_last_record     36931\n",
       "open_acc                       0\n",
       "pub_rec                        0\n",
       "revol_bal                      0\n",
       "revol_util                    50\n",
       "total_acc                      0\n",
       "out_prncp                      0\n",
       "out_prncp_inv                  0\n",
       "total_pymnt                    0\n",
       "total_pymnt_inv                0\n",
       "total_rec_prncp                0\n",
       "total_rec_int                  0\n",
       "total_rec_late_fee             0\n",
       "recoveries                     0\n",
       "collection_recovery_fee        0\n",
       "last_pymnt_amnt                0\n",
       "next_pymnt_d               38577\n",
       "dtype: int64"
      ]
     },
     "execution_count": 12,
     "metadata": {},
     "output_type": "execute_result"
    }
   ],
   "source": [
    "dataset.isnull().sum()"
   ]
  },
  {
   "cell_type": "markdown",
   "id": "fba7cd43",
   "metadata": {},
   "source": [
    "### from the above result the following columns are having null values nearest to the number of records in dataset\n",
    " - next_pymnt_d\n",
    " - mths_since_last_deling\n",
    " - mths_since_last_record\n",
    " \n",
    "**deleting these records**"
   ]
  },
  {
   "cell_type": "code",
   "execution_count": 13,
   "id": "6d4695f1",
   "metadata": {},
   "outputs": [
    {
     "data": {
      "text/plain": [
       "(39717, 36)"
      ]
     },
     "execution_count": 13,
     "metadata": {},
     "output_type": "execute_result"
    }
   ],
   "source": [
    "dataset.drop([\"next_pymnt_d\", \"mths_since_last_delinq\", \"mths_since_last_record\"], axis=1, inplace=True)\n",
    "dataset.shape"
   ]
  },
  {
   "cell_type": "markdown",
   "id": "d13e8c1a",
   "metadata": {},
   "source": [
    "### Checking for Missing Values"
   ]
  },
  {
   "cell_type": "code",
   "execution_count": 14,
   "id": "ff892f8d",
   "metadata": {},
   "outputs": [
    {
     "data": {
      "text/plain": [
       "id                            0\n",
       "member_id                     0\n",
       "loan_amnt                     0\n",
       "funded_amnt                   0\n",
       "funded_amnt_inv               0\n",
       "term                          0\n",
       "int_rate                      0\n",
       "installment                   0\n",
       "grade                         0\n",
       "sub_grade                     0\n",
       "emp_length                 1075\n",
       "home_ownership                0\n",
       "annual_inc                    0\n",
       "verification_status           0\n",
       "issue_d                       0\n",
       "loan_status                   0\n",
       "purpose                       0\n",
       "dti                           0\n",
       "delinq_2yrs                   0\n",
       "earliest_cr_line              0\n",
       "inq_last_6mths                0\n",
       "open_acc                      0\n",
       "pub_rec                       0\n",
       "revol_bal                     0\n",
       "revol_util                   50\n",
       "total_acc                     0\n",
       "out_prncp                     0\n",
       "out_prncp_inv                 0\n",
       "total_pymnt                   0\n",
       "total_pymnt_inv               0\n",
       "total_rec_prncp               0\n",
       "total_rec_int                 0\n",
       "total_rec_late_fee            0\n",
       "recoveries                    0\n",
       "collection_recovery_fee       0\n",
       "last_pymnt_amnt               0\n",
       "dtype: int64"
      ]
     },
     "execution_count": 14,
     "metadata": {},
     "output_type": "execute_result"
    }
   ],
   "source": [
    "dataset.isna().sum()"
   ]
  },
  {
   "cell_type": "markdown",
   "id": "0928ef60",
   "metadata": {},
   "source": [
    "### there are two columns having missing values\n",
    " - emp_length\n",
    " - revol_util\n",
    "\n",
    "- lets find out the most occurance value of these two columns"
   ]
  },
  {
   "cell_type": "code",
   "execution_count": 15,
   "id": "f42fb505",
   "metadata": {},
   "outputs": [
    {
     "data": {
      "text/plain": [
       "0    10+ years\n",
       "Name: emp_length, dtype: object"
      ]
     },
     "execution_count": 15,
     "metadata": {},
     "output_type": "execute_result"
    }
   ],
   "source": [
    "# dataset['emp_length'].value_counts()\n",
    "dataset.emp_length.mode()"
   ]
  },
  {
   "cell_type": "markdown",
   "id": "8cddd439",
   "metadata": {},
   "source": [
    "- lets fill the missing values of emp_length with 10+ years"
   ]
  },
  {
   "cell_type": "code",
   "execution_count": 16,
   "id": "2f59a1fa",
   "metadata": {},
   "outputs": [
    {
     "data": {
      "text/plain": [
       "0"
      ]
     },
     "execution_count": 16,
     "metadata": {},
     "output_type": "execute_result"
    }
   ],
   "source": [
    "dataset.emp_length.fillna(dataset.emp_length.mode()[0], inplace=True)\n",
    "dataset.emp_length.isna().sum()"
   ]
  },
  {
   "cell_type": "markdown",
   "id": "8ef1a426",
   "metadata": {},
   "source": [
    "- lets doo same thing for `revol_util` column"
   ]
  },
  {
   "cell_type": "code",
   "execution_count": 17,
   "id": "270ecad3",
   "metadata": {},
   "outputs": [
    {
     "data": {
      "text/plain": [
       "0"
      ]
     },
     "execution_count": 17,
     "metadata": {},
     "output_type": "execute_result"
    }
   ],
   "source": [
    "dataset.revol_util.fillna(dataset.revol_util.mode()[0], inplace=True)\n",
    "dataset.revol_util.isna().sum()"
   ]
  },
  {
   "cell_type": "code",
   "execution_count": 18,
   "id": "d25d6f37",
   "metadata": {},
   "outputs": [
    {
     "data": {
      "text/plain": [
       "id                         0\n",
       "member_id                  0\n",
       "loan_amnt                  0\n",
       "funded_amnt                0\n",
       "funded_amnt_inv            0\n",
       "term                       0\n",
       "int_rate                   0\n",
       "installment                0\n",
       "grade                      0\n",
       "sub_grade                  0\n",
       "emp_length                 0\n",
       "home_ownership             0\n",
       "annual_inc                 0\n",
       "verification_status        0\n",
       "issue_d                    0\n",
       "loan_status                0\n",
       "purpose                    0\n",
       "dti                        0\n",
       "delinq_2yrs                0\n",
       "earliest_cr_line           0\n",
       "inq_last_6mths             0\n",
       "open_acc                   0\n",
       "pub_rec                    0\n",
       "revol_bal                  0\n",
       "revol_util                 0\n",
       "total_acc                  0\n",
       "out_prncp                  0\n",
       "out_prncp_inv              0\n",
       "total_pymnt                0\n",
       "total_pymnt_inv            0\n",
       "total_rec_prncp            0\n",
       "total_rec_int              0\n",
       "total_rec_late_fee         0\n",
       "recoveries                 0\n",
       "collection_recovery_fee    0\n",
       "last_pymnt_amnt            0\n",
       "dtype: int64"
      ]
     },
     "execution_count": 18,
     "metadata": {},
     "output_type": "execute_result"
    }
   ],
   "source": [
    "dataset.isna().sum()"
   ]
  },
  {
   "cell_type": "markdown",
   "id": "8d4f1dc4",
   "metadata": {},
   "source": [
    "- AS per the problem statement we only require `charge_off` and `fulypaid` from `loan_status` column for our analysis"
   ]
  },
  {
   "cell_type": "code",
   "execution_count": 19,
   "id": "fb507d31",
   "metadata": {},
   "outputs": [
    {
     "data": {
      "text/plain": [
       "array(['Fully Paid', 'Charged Off', 'Current'], dtype=object)"
      ]
     },
     "execution_count": 19,
     "metadata": {},
     "output_type": "execute_result"
    }
   ],
   "source": [
    "dataset.loan_status.unique()"
   ]
  },
  {
   "cell_type": "code",
   "execution_count": 20,
   "id": "56f7609a",
   "metadata": {},
   "outputs": [
    {
     "data": {
      "text/plain": [
       "array(['Fully Paid', 'Charged Off'], dtype=object)"
      ]
     },
     "execution_count": 20,
     "metadata": {},
     "output_type": "execute_result"
    }
   ],
   "source": [
    "dataset = dataset[dataset.loan_status != 'Current']\n",
    "dataset.loan_status.unique()"
   ]
  },
  {
   "cell_type": "markdown",
   "id": "ce6c042e",
   "metadata": {},
   "source": [
    "## Standardizing Dataset"
   ]
  },
  {
   "cell_type": "code",
   "execution_count": 21,
   "id": "b0a6d774",
   "metadata": {},
   "outputs": [
    {
     "data": {
      "text/plain": [
       "(38577, 36)"
      ]
     },
     "execution_count": 21,
     "metadata": {},
     "output_type": "execute_result"
    }
   ],
   "source": [
    "dataset.shape"
   ]
  },
  {
   "cell_type": "code",
   "execution_count": 22,
   "id": "1b828cb7",
   "metadata": {},
   "outputs": [
    {
     "name": "stdout",
     "output_type": "stream",
     "text": [
      "<class 'pandas.core.frame.DataFrame'>\n",
      "Int64Index: 38577 entries, 0 to 39716\n",
      "Data columns (total 36 columns):\n",
      " #   Column                   Non-Null Count  Dtype  \n",
      "---  ------                   --------------  -----  \n",
      " 0   id                       38577 non-null  int64  \n",
      " 1   member_id                38577 non-null  int64  \n",
      " 2   loan_amnt                38577 non-null  int64  \n",
      " 3   funded_amnt              38577 non-null  int64  \n",
      " 4   funded_amnt_inv          38577 non-null  float64\n",
      " 5   term                     38577 non-null  object \n",
      " 6   int_rate                 38577 non-null  object \n",
      " 7   installment              38577 non-null  float64\n",
      " 8   grade                    38577 non-null  object \n",
      " 9   sub_grade                38577 non-null  object \n",
      " 10  emp_length               38577 non-null  object \n",
      " 11  home_ownership           38577 non-null  object \n",
      " 12  annual_inc               38577 non-null  float64\n",
      " 13  verification_status      38577 non-null  object \n",
      " 14  issue_d                  38577 non-null  object \n",
      " 15  loan_status              38577 non-null  object \n",
      " 16  purpose                  38577 non-null  object \n",
      " 17  dti                      38577 non-null  float64\n",
      " 18  delinq_2yrs              38577 non-null  int64  \n",
      " 19  earliest_cr_line         38577 non-null  object \n",
      " 20  inq_last_6mths           38577 non-null  int64  \n",
      " 21  open_acc                 38577 non-null  int64  \n",
      " 22  pub_rec                  38577 non-null  int64  \n",
      " 23  revol_bal                38577 non-null  int64  \n",
      " 24  revol_util               38577 non-null  object \n",
      " 25  total_acc                38577 non-null  int64  \n",
      " 26  out_prncp                38577 non-null  float64\n",
      " 27  out_prncp_inv            38577 non-null  float64\n",
      " 28  total_pymnt              38577 non-null  float64\n",
      " 29  total_pymnt_inv          38577 non-null  float64\n",
      " 30  total_rec_prncp          38577 non-null  float64\n",
      " 31  total_rec_int            38577 non-null  float64\n",
      " 32  total_rec_late_fee       38577 non-null  float64\n",
      " 33  recoveries               38577 non-null  float64\n",
      " 34  collection_recovery_fee  38577 non-null  float64\n",
      " 35  last_pymnt_amnt          38577 non-null  float64\n",
      "dtypes: float64(14), int64(10), object(12)\n",
      "memory usage: 10.9+ MB\n"
     ]
    }
   ],
   "source": [
    "dataset.info()"
   ]
  },
  {
   "cell_type": "markdown",
   "id": "adc68a94",
   "metadata": {},
   "source": [
    "### observation from previous analysis\n",
    " - `revol_util` has the `%` represensents it is not an standardised value\n",
    " - similarly for `int_rate`\n",
    " - in `emp_length` 10+ years treated as `10` and <1 treated as `0`\n",
    " - `sub_grade` is related to `grade` column to considering only numeric values for `sub_grade`"
   ]
  },
  {
   "cell_type": "code",
   "execution_count": 23,
   "id": "3bfc00ee",
   "metadata": {},
   "outputs": [],
   "source": [
    "# function to split '%'\n",
    "def std_percentile(x):\n",
    "    return x.split('%')[0]"
   ]
  },
  {
   "cell_type": "code",
   "execution_count": 24,
   "id": "0699f63a",
   "metadata": {},
   "outputs": [],
   "source": [
    "dataset.revol_util = pd.to_numeric(dataset.revol_util.apply(std_percentile))\n",
    "dataset.int_rate = pd.to_numeric(dataset.int_rate.apply(std_percentile))"
   ]
  },
  {
   "cell_type": "code",
   "execution_count": 25,
   "id": "4af51aeb",
   "metadata": {},
   "outputs": [],
   "source": [
    "dataset.emp_length = pd.to_numeric(dataset.emp_length.apply(lambda x: 0 if '< 1' in x else (x.split('+')[0] if '+' in x else x.split()[0])))"
   ]
  },
  {
   "cell_type": "code",
   "execution_count": 26,
   "id": "c6206195",
   "metadata": {},
   "outputs": [],
   "source": [
    "#B2\n",
    "#01\n",
    "dataset.sub_grade = pd.to_numeric(dataset.sub_grade.apply(lambda x: x[-1]))"
   ]
  },
  {
   "cell_type": "code",
   "execution_count": 27,
   "id": "8e23118f",
   "metadata": {},
   "outputs": [
    {
     "data": {
      "text/html": [
       "<div>\n",
       "<style scoped>\n",
       "    .dataframe tbody tr th:only-of-type {\n",
       "        vertical-align: middle;\n",
       "    }\n",
       "\n",
       "    .dataframe tbody tr th {\n",
       "        vertical-align: top;\n",
       "    }\n",
       "\n",
       "    .dataframe thead th {\n",
       "        text-align: right;\n",
       "    }\n",
       "</style>\n",
       "<table border=\"1\" class=\"dataframe\">\n",
       "  <thead>\n",
       "    <tr style=\"text-align: right;\">\n",
       "      <th></th>\n",
       "      <th>id</th>\n",
       "      <th>member_id</th>\n",
       "      <th>loan_amnt</th>\n",
       "      <th>funded_amnt</th>\n",
       "      <th>funded_amnt_inv</th>\n",
       "      <th>term</th>\n",
       "      <th>int_rate</th>\n",
       "      <th>installment</th>\n",
       "      <th>grade</th>\n",
       "      <th>sub_grade</th>\n",
       "      <th>...</th>\n",
       "      <th>out_prncp</th>\n",
       "      <th>out_prncp_inv</th>\n",
       "      <th>total_pymnt</th>\n",
       "      <th>total_pymnt_inv</th>\n",
       "      <th>total_rec_prncp</th>\n",
       "      <th>total_rec_int</th>\n",
       "      <th>total_rec_late_fee</th>\n",
       "      <th>recoveries</th>\n",
       "      <th>collection_recovery_fee</th>\n",
       "      <th>last_pymnt_amnt</th>\n",
       "    </tr>\n",
       "  </thead>\n",
       "  <tbody>\n",
       "    <tr>\n",
       "      <th>0</th>\n",
       "      <td>1077501</td>\n",
       "      <td>1296599</td>\n",
       "      <td>5000</td>\n",
       "      <td>5000</td>\n",
       "      <td>4975.0</td>\n",
       "      <td>36 months</td>\n",
       "      <td>10.65</td>\n",
       "      <td>162.87</td>\n",
       "      <td>B</td>\n",
       "      <td>2</td>\n",
       "      <td>...</td>\n",
       "      <td>0.0</td>\n",
       "      <td>0.0</td>\n",
       "      <td>5863.155187</td>\n",
       "      <td>5833.84</td>\n",
       "      <td>5000.00</td>\n",
       "      <td>863.16</td>\n",
       "      <td>0.00</td>\n",
       "      <td>0.00</td>\n",
       "      <td>0.00</td>\n",
       "      <td>171.62</td>\n",
       "    </tr>\n",
       "    <tr>\n",
       "      <th>1</th>\n",
       "      <td>1077430</td>\n",
       "      <td>1314167</td>\n",
       "      <td>2500</td>\n",
       "      <td>2500</td>\n",
       "      <td>2500.0</td>\n",
       "      <td>60 months</td>\n",
       "      <td>15.27</td>\n",
       "      <td>59.83</td>\n",
       "      <td>C</td>\n",
       "      <td>4</td>\n",
       "      <td>...</td>\n",
       "      <td>0.0</td>\n",
       "      <td>0.0</td>\n",
       "      <td>1008.710000</td>\n",
       "      <td>1008.71</td>\n",
       "      <td>456.46</td>\n",
       "      <td>435.17</td>\n",
       "      <td>0.00</td>\n",
       "      <td>117.08</td>\n",
       "      <td>1.11</td>\n",
       "      <td>119.66</td>\n",
       "    </tr>\n",
       "    <tr>\n",
       "      <th>2</th>\n",
       "      <td>1077175</td>\n",
       "      <td>1313524</td>\n",
       "      <td>2400</td>\n",
       "      <td>2400</td>\n",
       "      <td>2400.0</td>\n",
       "      <td>36 months</td>\n",
       "      <td>15.96</td>\n",
       "      <td>84.33</td>\n",
       "      <td>C</td>\n",
       "      <td>5</td>\n",
       "      <td>...</td>\n",
       "      <td>0.0</td>\n",
       "      <td>0.0</td>\n",
       "      <td>3005.666844</td>\n",
       "      <td>3005.67</td>\n",
       "      <td>2400.00</td>\n",
       "      <td>605.67</td>\n",
       "      <td>0.00</td>\n",
       "      <td>0.00</td>\n",
       "      <td>0.00</td>\n",
       "      <td>649.91</td>\n",
       "    </tr>\n",
       "    <tr>\n",
       "      <th>3</th>\n",
       "      <td>1076863</td>\n",
       "      <td>1277178</td>\n",
       "      <td>10000</td>\n",
       "      <td>10000</td>\n",
       "      <td>10000.0</td>\n",
       "      <td>36 months</td>\n",
       "      <td>13.49</td>\n",
       "      <td>339.31</td>\n",
       "      <td>C</td>\n",
       "      <td>1</td>\n",
       "      <td>...</td>\n",
       "      <td>0.0</td>\n",
       "      <td>0.0</td>\n",
       "      <td>12231.890000</td>\n",
       "      <td>12231.89</td>\n",
       "      <td>10000.00</td>\n",
       "      <td>2214.92</td>\n",
       "      <td>16.97</td>\n",
       "      <td>0.00</td>\n",
       "      <td>0.00</td>\n",
       "      <td>357.48</td>\n",
       "    </tr>\n",
       "    <tr>\n",
       "      <th>5</th>\n",
       "      <td>1075269</td>\n",
       "      <td>1311441</td>\n",
       "      <td>5000</td>\n",
       "      <td>5000</td>\n",
       "      <td>5000.0</td>\n",
       "      <td>36 months</td>\n",
       "      <td>7.90</td>\n",
       "      <td>156.46</td>\n",
       "      <td>A</td>\n",
       "      <td>4</td>\n",
       "      <td>...</td>\n",
       "      <td>0.0</td>\n",
       "      <td>0.0</td>\n",
       "      <td>5632.210000</td>\n",
       "      <td>5632.21</td>\n",
       "      <td>5000.00</td>\n",
       "      <td>632.21</td>\n",
       "      <td>0.00</td>\n",
       "      <td>0.00</td>\n",
       "      <td>0.00</td>\n",
       "      <td>161.03</td>\n",
       "    </tr>\n",
       "    <tr>\n",
       "      <th>6</th>\n",
       "      <td>1069639</td>\n",
       "      <td>1304742</td>\n",
       "      <td>7000</td>\n",
       "      <td>7000</td>\n",
       "      <td>7000.0</td>\n",
       "      <td>60 months</td>\n",
       "      <td>15.96</td>\n",
       "      <td>170.08</td>\n",
       "      <td>C</td>\n",
       "      <td>5</td>\n",
       "      <td>...</td>\n",
       "      <td>0.0</td>\n",
       "      <td>0.0</td>\n",
       "      <td>10110.840000</td>\n",
       "      <td>10110.84</td>\n",
       "      <td>6985.61</td>\n",
       "      <td>3125.23</td>\n",
       "      <td>0.00</td>\n",
       "      <td>0.00</td>\n",
       "      <td>0.00</td>\n",
       "      <td>1313.76</td>\n",
       "    </tr>\n",
       "    <tr>\n",
       "      <th>7</th>\n",
       "      <td>1072053</td>\n",
       "      <td>1288686</td>\n",
       "      <td>3000</td>\n",
       "      <td>3000</td>\n",
       "      <td>3000.0</td>\n",
       "      <td>36 months</td>\n",
       "      <td>18.64</td>\n",
       "      <td>109.43</td>\n",
       "      <td>E</td>\n",
       "      <td>1</td>\n",
       "      <td>...</td>\n",
       "      <td>0.0</td>\n",
       "      <td>0.0</td>\n",
       "      <td>3939.135294</td>\n",
       "      <td>3939.14</td>\n",
       "      <td>3000.00</td>\n",
       "      <td>939.14</td>\n",
       "      <td>0.00</td>\n",
       "      <td>0.00</td>\n",
       "      <td>0.00</td>\n",
       "      <td>111.34</td>\n",
       "    </tr>\n",
       "    <tr>\n",
       "      <th>8</th>\n",
       "      <td>1071795</td>\n",
       "      <td>1306957</td>\n",
       "      <td>5600</td>\n",
       "      <td>5600</td>\n",
       "      <td>5600.0</td>\n",
       "      <td>60 months</td>\n",
       "      <td>21.28</td>\n",
       "      <td>152.39</td>\n",
       "      <td>F</td>\n",
       "      <td>2</td>\n",
       "      <td>...</td>\n",
       "      <td>0.0</td>\n",
       "      <td>0.0</td>\n",
       "      <td>646.020000</td>\n",
       "      <td>646.02</td>\n",
       "      <td>162.02</td>\n",
       "      <td>294.94</td>\n",
       "      <td>0.00</td>\n",
       "      <td>189.06</td>\n",
       "      <td>2.09</td>\n",
       "      <td>152.39</td>\n",
       "    </tr>\n",
       "    <tr>\n",
       "      <th>9</th>\n",
       "      <td>1071570</td>\n",
       "      <td>1306721</td>\n",
       "      <td>5375</td>\n",
       "      <td>5375</td>\n",
       "      <td>5350.0</td>\n",
       "      <td>60 months</td>\n",
       "      <td>12.69</td>\n",
       "      <td>121.45</td>\n",
       "      <td>B</td>\n",
       "      <td>5</td>\n",
       "      <td>...</td>\n",
       "      <td>0.0</td>\n",
       "      <td>0.0</td>\n",
       "      <td>1476.190000</td>\n",
       "      <td>1469.34</td>\n",
       "      <td>673.48</td>\n",
       "      <td>533.42</td>\n",
       "      <td>0.00</td>\n",
       "      <td>269.29</td>\n",
       "      <td>2.52</td>\n",
       "      <td>121.45</td>\n",
       "    </tr>\n",
       "    <tr>\n",
       "      <th>10</th>\n",
       "      <td>1070078</td>\n",
       "      <td>1305201</td>\n",
       "      <td>6500</td>\n",
       "      <td>6500</td>\n",
       "      <td>6500.0</td>\n",
       "      <td>60 months</td>\n",
       "      <td>14.65</td>\n",
       "      <td>153.45</td>\n",
       "      <td>C</td>\n",
       "      <td>3</td>\n",
       "      <td>...</td>\n",
       "      <td>0.0</td>\n",
       "      <td>0.0</td>\n",
       "      <td>7678.017673</td>\n",
       "      <td>7678.02</td>\n",
       "      <td>6500.00</td>\n",
       "      <td>1178.02</td>\n",
       "      <td>0.00</td>\n",
       "      <td>0.00</td>\n",
       "      <td>0.00</td>\n",
       "      <td>1655.54</td>\n",
       "    </tr>\n",
       "  </tbody>\n",
       "</table>\n",
       "<p>10 rows × 36 columns</p>\n",
       "</div>"
      ],
      "text/plain": [
       "         id  member_id  loan_amnt  funded_amnt  funded_amnt_inv        term  \\\n",
       "0   1077501    1296599       5000         5000           4975.0   36 months   \n",
       "1   1077430    1314167       2500         2500           2500.0   60 months   \n",
       "2   1077175    1313524       2400         2400           2400.0   36 months   \n",
       "3   1076863    1277178      10000        10000          10000.0   36 months   \n",
       "5   1075269    1311441       5000         5000           5000.0   36 months   \n",
       "6   1069639    1304742       7000         7000           7000.0   60 months   \n",
       "7   1072053    1288686       3000         3000           3000.0   36 months   \n",
       "8   1071795    1306957       5600         5600           5600.0   60 months   \n",
       "9   1071570    1306721       5375         5375           5350.0   60 months   \n",
       "10  1070078    1305201       6500         6500           6500.0   60 months   \n",
       "\n",
       "    int_rate  installment grade  sub_grade  ...  out_prncp out_prncp_inv  \\\n",
       "0      10.65       162.87     B          2  ...        0.0           0.0   \n",
       "1      15.27        59.83     C          4  ...        0.0           0.0   \n",
       "2      15.96        84.33     C          5  ...        0.0           0.0   \n",
       "3      13.49       339.31     C          1  ...        0.0           0.0   \n",
       "5       7.90       156.46     A          4  ...        0.0           0.0   \n",
       "6      15.96       170.08     C          5  ...        0.0           0.0   \n",
       "7      18.64       109.43     E          1  ...        0.0           0.0   \n",
       "8      21.28       152.39     F          2  ...        0.0           0.0   \n",
       "9      12.69       121.45     B          5  ...        0.0           0.0   \n",
       "10     14.65       153.45     C          3  ...        0.0           0.0   \n",
       "\n",
       "     total_pymnt total_pymnt_inv total_rec_prncp total_rec_int  \\\n",
       "0    5863.155187         5833.84         5000.00        863.16   \n",
       "1    1008.710000         1008.71          456.46        435.17   \n",
       "2    3005.666844         3005.67         2400.00        605.67   \n",
       "3   12231.890000        12231.89        10000.00       2214.92   \n",
       "5    5632.210000         5632.21         5000.00        632.21   \n",
       "6   10110.840000        10110.84         6985.61       3125.23   \n",
       "7    3939.135294         3939.14         3000.00        939.14   \n",
       "8     646.020000          646.02          162.02        294.94   \n",
       "9    1476.190000         1469.34          673.48        533.42   \n",
       "10   7678.017673         7678.02         6500.00       1178.02   \n",
       "\n",
       "   total_rec_late_fee  recoveries  collection_recovery_fee last_pymnt_amnt  \n",
       "0                0.00        0.00                     0.00          171.62  \n",
       "1                0.00      117.08                     1.11          119.66  \n",
       "2                0.00        0.00                     0.00          649.91  \n",
       "3               16.97        0.00                     0.00          357.48  \n",
       "5                0.00        0.00                     0.00          161.03  \n",
       "6                0.00        0.00                     0.00         1313.76  \n",
       "7                0.00        0.00                     0.00          111.34  \n",
       "8                0.00      189.06                     2.09          152.39  \n",
       "9                0.00      269.29                     2.52          121.45  \n",
       "10               0.00        0.00                     0.00         1655.54  \n",
       "\n",
       "[10 rows x 36 columns]"
      ]
     },
     "execution_count": 27,
     "metadata": {},
     "output_type": "execute_result"
    }
   ],
   "source": [
    "dataset.head(10)"
   ]
  },
  {
   "cell_type": "markdown",
   "id": "b63891ad",
   "metadata": {},
   "source": [
    "### from the resultant dataset it looks like we still have columns with unique values (remove them)\n",
    " - out_prncp\n",
    " - out_prncp_inv\n",
    "\n",
    "**Unique values occuring now beause we have only fetched the columns with `charged_off` or `fullypaid`**"
   ]
  },
  {
   "cell_type": "code",
   "execution_count": 28,
   "id": "cafc9536",
   "metadata": {},
   "outputs": [
    {
     "data": {
      "text/plain": [
       "['out_prncp', 'out_prncp_inv']"
      ]
     },
     "execution_count": 28,
     "metadata": {},
     "output_type": "execute_result"
    }
   ],
   "source": [
    "# function to find unique values\n",
    "drop_list_1 = list()\n",
    "for i in dataset.columns:\n",
    "    if len(dataset[i].unique())==1:\n",
    "        drop_list_1.append(i)\n",
    "        \n",
    "drop_list_1"
   ]
  },
  {
   "cell_type": "code",
   "execution_count": 29,
   "id": "3e4adbb5",
   "metadata": {},
   "outputs": [
    {
     "data": {
      "text/plain": [
       "(38577, 34)"
      ]
     },
     "execution_count": 29,
     "metadata": {},
     "output_type": "execute_result"
    }
   ],
   "source": [
    "dataset.drop(drop_list_1, axis=1, inplace=True)\n",
    "dataset.shape"
   ]
  },
  {
   "cell_type": "markdown",
   "id": "ecb9e728",
   "metadata": {},
   "source": [
    "## Outlier Treatment\n",
    " - taking only inlier data for breif analysis"
   ]
  },
  {
   "cell_type": "code",
   "execution_count": 30,
   "id": "dbf814d3",
   "metadata": {},
   "outputs": [
    {
     "data": {
      "text/plain": [
       "id                             1077501\n",
       "member_id                      1314167\n",
       "loan_amnt                        35000\n",
       "funded_amnt                      35000\n",
       "funded_amnt_inv                35000.0\n",
       "term                         60 months\n",
       "int_rate                          24.4\n",
       "installment                    1305.19\n",
       "grade                                G\n",
       "sub_grade                            5\n",
       "emp_length                          10\n",
       "home_ownership                    RENT\n",
       "annual_inc                   6000000.0\n",
       "verification_status           Verified\n",
       "issue_d                         Sep-11\n",
       "loan_status                 Fully Paid\n",
       "purpose                        wedding\n",
       "dti                              29.99\n",
       "delinq_2yrs                         11\n",
       "earliest_cr_line                Sep-99\n",
       "inq_last_6mths                       8\n",
       "open_acc                            44\n",
       "pub_rec                              4\n",
       "revol_bal                       149588\n",
       "revol_util                        99.9\n",
       "total_acc                           90\n",
       "total_pymnt                58563.67993\n",
       "total_pymnt_inv               58563.68\n",
       "total_rec_prncp               35000.02\n",
       "total_rec_int                 23563.68\n",
       "total_rec_late_fee               180.2\n",
       "recoveries                    29623.35\n",
       "collection_recovery_fee        7002.19\n",
       "last_pymnt_amnt                36115.2\n",
       "dtype: object"
      ]
     },
     "execution_count": 30,
     "metadata": {},
     "output_type": "execute_result"
    }
   ],
   "source": [
    "dataset.max()"
   ]
  },
  {
   "cell_type": "markdown",
   "id": "1eda3289",
   "metadata": {},
   "source": [
    "- out from this data `annual_inc` has the higher value compared to all columns\n",
    "- lets use this column for outlier treatment"
   ]
  },
  {
   "cell_type": "code",
   "execution_count": 31,
   "id": "ed42e557",
   "metadata": {},
   "outputs": [
    {
     "data": {
      "text/plain": [
       "<AxesSubplot:>"
      ]
     },
     "execution_count": 31,
     "metadata": {},
     "output_type": "execute_result"
    },
    {
     "data": {
      "image/png": "[encoded data removed]",
      "text/plain": [
       "<Figure size 640x480 with 1 Axes>"
      ]
     },
     "metadata": {},
     "output_type": "display_data"
    }
   ],
   "source": [
    "sns.boxplot(dataset.annual_inc)"
   ]
  },
  {
   "cell_type": "markdown",
   "id": "cc0d5d35",
   "metadata": {},
   "source": [
    "### indicating the presence of outlier\n",
    " - quantile information has the accurate information\n",
    " - lets use quantile to take an appropriate action\n",
    " - its looks like data is disconnecting after 95 percentile\n",
    " - so, our threshold is `0.95`"
   ]
  },
  {
   "cell_type": "code",
   "execution_count": 32,
   "id": "54ed0993",
   "metadata": {},
   "outputs": [
    {
     "data": {
      "text/plain": [
       "0.50     58868.0\n",
       "0.75     82000.0\n",
       "0.85    100000.0\n",
       "0.90    115000.0\n",
       "0.91    120000.0\n",
       "0.92    122000.0\n",
       "0.93    127500.0\n",
       "0.94    134000.0\n",
       "0.95    140004.0\n",
       "0.96    150000.0\n",
       "0.99    234144.0\n",
       "Name: annual_inc, dtype: float64"
      ]
     },
     "execution_count": 32,
     "metadata": {},
     "output_type": "execute_result"
    }
   ],
   "source": [
    "dataset.annual_inc.quantile([0.5, 0.75, 0.85, 0.90, 0.91, 0.92, 0.93, 0.94, 0.95, 0.96, 0.99])"
   ]
  },
  {
   "cell_type": "code",
   "execution_count": 33,
   "id": "12ab8414",
   "metadata": {},
   "outputs": [
    {
     "data": {
      "text/plain": [
       "140004.0"
      ]
     },
     "execution_count": 33,
     "metadata": {},
     "output_type": "execute_result"
    }
   ],
   "source": [
    "dataset.annual_inc.quantile(0.95)"
   ]
  },
  {
   "cell_type": "code",
   "execution_count": 34,
   "id": "3925d6b2",
   "metadata": {},
   "outputs": [],
   "source": [
    "dataset = dataset[dataset.annual_inc <= 140004.0]"
   ]
  },
  {
   "cell_type": "code",
   "execution_count": 35,
   "id": "6fec890f",
   "metadata": {},
   "outputs": [
    {
     "data": {
      "text/plain": [
       "<AxesSubplot:>"
      ]
     },
     "execution_count": 35,
     "metadata": {},
     "output_type": "execute_result"
    },
    {
     "data": {
      "image/png": "[encoded data removed]",
      "text/plain": [
       "<Figure size 640x480 with 1 Axes>"
      ]
     },
     "metadata": {},
     "output_type": "display_data"
    }
   ],
   "source": [
    "sns.boxplot(dataset.annual_inc)"
   ]
  },
  {
   "cell_type": "markdown",
   "id": "f3ad89dc",
   "metadata": {},
   "source": [
    "### move onto next step\n",
    "- filter the data again from which useful columns having higher values\n",
    "- loan_amnt\n",
    "- funded_amnt_inv"
   ]
  },
  {
   "cell_type": "code",
   "execution_count": 36,
   "id": "7a221715",
   "metadata": {},
   "outputs": [
    {
     "data": {
      "text/plain": [
       "<AxesSubplot:>"
      ]
     },
     "execution_count": 36,
     "metadata": {},
     "output_type": "execute_result"
    },
    {
     "data": {
      "image/png": "[encoded data removed]",
      "text/plain": [
       "<Figure size 640x480 with 1 Axes>"
      ]
     },
     "metadata": {},
     "output_type": "display_data"
    }
   ],
   "source": [
    "sns.boxplot(dataset.loan_amnt)"
   ]
  },
  {
   "cell_type": "code",
   "execution_count": 37,
   "id": "69fd7f7a",
   "metadata": {},
   "outputs": [
    {
     "data": {
      "text/plain": [
       "<AxesSubplot:>"
      ]
     },
     "execution_count": 37,
     "metadata": {},
     "output_type": "execute_result"
    },
    {
     "data": {
      "image/png": "[encoded data removed]",
      "text/plain": [
       "<Figure size 640x480 with 1 Axes>"
      ]
     },
     "metadata": {},
     "output_type": "display_data"
    }
   ],
   "source": [
    "sns.boxplot(dataset.funded_amnt_inv)"
   ]
  },
  {
   "cell_type": "markdown",
   "id": "d9f0bf9e",
   "metadata": {},
   "source": [
    "- so, there are some outliers but no need to remove, because the data is already consistent for analysis"
   ]
  },
  {
   "cell_type": "markdown",
   "id": "320906b8",
   "metadata": {},
   "source": [
    "## Visualizing Data"
   ]
  },
  {
   "cell_type": "code",
   "execution_count": 38,
   "id": "700a0767",
   "metadata": {},
   "outputs": [
    {
     "data": {
      "text/plain": [
       "<AxesSubplot:xlabel='loan_status', ylabel='count'>"
      ]
     },
     "execution_count": 38,
     "metadata": {},
     "output_type": "execute_result"
    },
    {
     "data": {
      "image/png": "[encoded data removed]",
      "text/plain": [
       "<Figure size 640x480 with 1 Axes>"
      ]
     },
     "metadata": {},
     "output_type": "display_data"
    }
   ],
   "source": [
    "sns.countplot(x= 'loan_status', data=dataset)"
   ]
  },
  {
   "cell_type": "markdown",
   "id": "84d603a5",
   "metadata": {},
   "source": [
    "### Lets split this data so, we can only perform analysis based on category"
   ]
  },
  {
   "cell_type": "code",
   "execution_count": 39,
   "id": "87095dfc",
   "metadata": {},
   "outputs": [],
   "source": [
    "fully_paid = dataset[dataset.loan_status==\"Fully Paid\"]\n",
    "charged_off = dataset[dataset.loan_status==\"Charged Off\"]"
   ]
  },
  {
   "cell_type": "markdown",
   "id": "99946d27",
   "metadata": {},
   "source": [
    "## Observations based on annual_inc\n",
    "- when `annual_inc` is taken into consideration\n",
    "\n",
    " **Charge Off**\n",
    " - people with income range `30k-60k` is more likely to default `Charge Off`"
   ]
  },
  {
   "cell_type": "code",
   "execution_count": 67,
   "id": "6479213c",
   "metadata": {},
   "outputs": [],
   "source": [
    "charged_off['annual_inc_range'] = pd.cut(charged_off.annual_inc, bins=10,precision=0,labels =['0k-15k','15k-30k','30k-45k','45k-60k','60k-75k', '75k-90k', '90k-105k', '105k-120k', '120k-135k', '135k-150k'])"
   ]
  },
  {
   "cell_type": "code",
   "execution_count": 41,
   "id": "51f9666d",
   "metadata": {},
   "outputs": [
    {
     "data": {
      "text/plain": [
       "<AxesSubplot:xlabel='count', ylabel='annual_inc_range'>"
      ]
     },
     "execution_count": 41,
     "metadata": {},
     "output_type": "execute_result"
    },
    {
     "data": {
      "image/png": "[encoded data removed]",
      "text/plain": [
       "<Figure size 640x480 with 1 Axes>"
      ]
     },
     "metadata": {},
     "output_type": "display_data"
    }
   ],
   "source": [
    "sns.countplot(y='annual_inc_range', data=charged_off)"
   ]
  },
  {
   "cell_type": "markdown",
   "id": "d57c8458",
   "metadata": {},
   "source": [
    "## Observation based on loan_amnt\n",
    "- when `loan_amnt` is taken into consideration\n",
    "\n",
    " **Charge Off**\n",
    " - people with sanctioned loan of `5k-10k` is more likely to default `Charge Off`\n",
    " - people who sanctioned with `17500 - 20000` and having an annual income of `105k-135k` are more likely to default."
   ]
  },
  {
   "cell_type": "code",
   "execution_count": 42,
   "id": "678cdd9c",
   "metadata": {},
   "outputs": [
    {
     "data": {
      "text/plain": [
       "35000"
      ]
     },
     "execution_count": 42,
     "metadata": {},
     "output_type": "execute_result"
    }
   ],
   "source": [
    "charged_off.loan_amnt.max()"
   ]
  },
  {
   "cell_type": "code",
   "execution_count": 68,
   "id": "7be80862",
   "metadata": {},
   "outputs": [],
   "source": [
    "charged_off['loan_amnt_range'] =  pd.cut(charged_off.loan_amnt, bins=7,precision=0,labels =['0k-5k','5k-10k','10k-15k','15k-20k','20k-25k', '25k-30k', '30k-35k'])"
   ]
  },
  {
   "cell_type": "code",
   "execution_count": 44,
   "id": "572b75b7",
   "metadata": {},
   "outputs": [
    {
     "data": {
      "text/plain": [
       "<AxesSubplot:xlabel='count', ylabel='loan_amnt_range'>"
      ]
     },
     "execution_count": 44,
     "metadata": {},
     "output_type": "execute_result"
    },
    {
     "data": {
      "image/png": "[encoded data removed]",
      "text/plain": [
       "<Figure size 640x480 with 1 Axes>"
      ]
     },
     "metadata": {},
     "output_type": "display_data"
    }
   ],
   "source": [
    "sns.countplot(y=charged_off.loan_amnt_range, data=charged_off)"
   ]
  },
  {
   "cell_type": "code",
   "execution_count": 45,
   "id": "03886a1d",
   "metadata": {},
   "outputs": [
    {
     "data": {
      "text/plain": [
       "<AxesSubplot:xlabel='loan_amnt', ylabel='annual_inc_range'>"
      ]
     },
     "execution_count": 45,
     "metadata": {},
     "output_type": "execute_result"
    },
    {
     "data": {
      "image/png": "[encoded data removed]",
      "text/plain": [
       "<Figure size 640x480 with 1 Axes>"
      ]
     },
     "metadata": {},
     "output_type": "display_data"
    }
   ],
   "source": [
    "sns.barplot(y='annual_inc_range', x='loan_amnt', data=charged_off)"
   ]
  },
  {
   "cell_type": "markdown",
   "id": "618f4907",
   "metadata": {},
   "source": [
    "## Observations based on term\n",
    "- when `term` is taken into consideration\n",
    "\n",
    " **Charge Off**\n",
    " - people with loan term of `36 months` is more likely to default `Charge Off`\n",
    " - people with loan_amnt `14k-16k` with term period of `60 months` are more likely to default."
   ]
  },
  {
   "cell_type": "code",
   "execution_count": 46,
   "id": "a33af2bf",
   "metadata": {},
   "outputs": [
    {
     "data": {
      "text/plain": [
       "<AxesSubplot:xlabel='term', ylabel='count'>"
      ]
     },
     "execution_count": 46,
     "metadata": {},
     "output_type": "execute_result"
    },
    {
     "data": {
      "image/png": "[encoded data removed]",
      "text/plain": [
       "<Figure size 640x480 with 1 Axes>"
      ]
     },
     "metadata": {},
     "output_type": "display_data"
    }
   ],
   "source": [
    "sns.countplot(x='term', data=charged_off)"
   ]
  },
  {
   "cell_type": "code",
   "execution_count": 47,
   "id": "91626f73",
   "metadata": {},
   "outputs": [
    {
     "data": {
      "text/plain": [
       "<AxesSubplot:xlabel='term', ylabel='loan_amnt'>"
      ]
     },
     "execution_count": 47,
     "metadata": {},
     "output_type": "execute_result"
    },
    {
     "data": {
      "image/png": "[encoded data removed]",
      "text/plain": [
       "<Figure size 640x480 with 1 Axes>"
      ]
     },
     "metadata": {},
     "output_type": "display_data"
    }
   ],
   "source": [
    "sns.barplot(x='term', y='loan_amnt', data=charged_off)"
   ]
  },
  {
   "cell_type": "markdown",
   "id": "2f67db72",
   "metadata": {},
   "source": [
    "## Observation based on verification_status\n",
    "- when `verification_status` is taken into consideration\n",
    "\n",
    " **Charge Off**\n",
    " - people `Not Verified` are more likely to default `Charge Off`\n",
    " - people `Verified` and with `60k+` annual_inc are more likely to default."
   ]
  },
  {
   "cell_type": "code",
   "execution_count": 48,
   "id": "ad4c4cf0",
   "metadata": {},
   "outputs": [
    {
     "data": {
      "text/plain": [
       "array(['Source Verified', 'Verified', 'Not Verified'], dtype=object)"
      ]
     },
     "execution_count": 48,
     "metadata": {},
     "output_type": "execute_result"
    }
   ],
   "source": [
    "charged_off.verification_status.unique()"
   ]
  },
  {
   "cell_type": "code",
   "execution_count": 49,
   "id": "67fb1b8f",
   "metadata": {},
   "outputs": [
    {
     "data": {
      "text/plain": [
       "<AxesSubplot:xlabel='verification_status', ylabel='count'>"
      ]
     },
     "execution_count": 49,
     "metadata": {},
     "output_type": "execute_result"
    },
    {
     "data": {
      "image/png": "[encoded data removed]",
      "text/plain": [
       "<Figure size 640x480 with 1 Axes>"
      ]
     },
     "metadata": {},
     "output_type": "display_data"
    }
   ],
   "source": [
    "sns.countplot(x='verification_status', data=charged_off)"
   ]
  },
  {
   "cell_type": "code",
   "execution_count": 50,
   "id": "1a987a87",
   "metadata": {},
   "outputs": [
    {
     "data": {
      "text/plain": [
       "<AxesSubplot:xlabel='verification_status', ylabel='annual_inc'>"
      ]
     },
     "execution_count": 50,
     "metadata": {},
     "output_type": "execute_result"
    },
    {
     "data": {
      "image/png": "[encoded data removed]",
      "text/plain": [
       "<Figure size 640x480 with 1 Axes>"
      ]
     },
     "metadata": {},
     "output_type": "display_data"
    }
   ],
   "source": [
    "sns.barplot(x='verification_status', y='annual_inc', data=charged_off)"
   ]
  },
  {
   "cell_type": "markdown",
   "id": "0b26f214",
   "metadata": {},
   "source": [
    "## Observation based on int_rate\n",
    "- when `int_rate` is taken into consideration\n",
    "\n",
    " **Charge Off**\n",
    " - people with interest rate of `13%-17%` is more likely to default `Charge Off`\n",
    " - people with loan_amnt `20k-35k` with int_rate of `15%-17%` are more likely to default."
   ]
  },
  {
   "cell_type": "code",
   "execution_count": 69,
   "id": "a32b8d4a",
   "metadata": {},
   "outputs": [],
   "source": [
    "charged_off['int_rate_range'] =  pd.cut(charged_off.int_rate, bins=5,precision=0,labels =['5%-9%','9%-13%','13%-17%','17%-21%','21%-24%'])"
   ]
  },
  {
   "cell_type": "code",
   "execution_count": 52,
   "id": "f2d9b34e",
   "metadata": {},
   "outputs": [
    {
     "data": {
      "text/plain": [
       "<AxesSubplot:xlabel='int_rate_range', ylabel='count'>"
      ]
     },
     "execution_count": 52,
     "metadata": {},
     "output_type": "execute_result"
    },
    {
     "data": {
      "image/png": "[encoded data removed]",
      "text/plain": [
       "<Figure size 640x480 with 1 Axes>"
      ]
     },
     "metadata": {},
     "output_type": "display_data"
    }
   ],
   "source": [
    "sns.countplot(x='int_rate_range', data=charged_off)"
   ]
  },
  {
   "cell_type": "code",
   "execution_count": 53,
   "id": "ef1f86b7",
   "metadata": {},
   "outputs": [
    {
     "data": {
      "text/plain": [
       "<AxesSubplot:xlabel='int_rate', ylabel='loan_amnt_range'>"
      ]
     },
     "execution_count": 53,
     "metadata": {},
     "output_type": "execute_result"
    },
    {
     "data": {
      "image/png": "[encoded data removed]",
      "text/plain": [
       "<Figure size 640x480 with 1 Axes>"
      ]
     },
     "metadata": {},
     "output_type": "display_data"
    }
   ],
   "source": [
    "sns.barplot(x='int_rate', y=\"loan_amnt_range\", data=charged_off)"
   ]
  },
  {
   "cell_type": "code",
   "execution_count": 54,
   "id": "4dfeaed3",
   "metadata": {},
   "outputs": [
    {
     "data": {
      "text/plain": [
       "<AxesSubplot:xlabel='int_rate', ylabel='Count'>"
      ]
     },
     "execution_count": 54,
     "metadata": {},
     "output_type": "execute_result"
    },
    {
     "data": {
      "image/png": "[encoded data removed]",
      "text/plain": [
       "<Figure size 640x480 with 1 Axes>"
      ]
     },
     "metadata": {},
     "output_type": "display_data"
    }
   ],
   "source": [
    "sns.histplot(charged_off.int_rate)"
   ]
  },
  {
   "cell_type": "markdown",
   "id": "8e09f86a",
   "metadata": {},
   "source": [
    "## Observation based on emp_length\n",
    "- when `emp_length` is taken into consideration\n",
    "\n",
    " **Charge Off**\n",
    " - people with experience of `10/10+` years is more likely to default `Charge Off`\n",
    " - people with `10` years of exp and having `12k-14k` loan_amnt are more likely to default."
   ]
  },
  {
   "cell_type": "code",
   "execution_count": 73,
   "id": "79d14eeb",
   "metadata": {},
   "outputs": [
    {
     "data": {
      "text/plain": [
       "<AxesSubplot:xlabel='emp_length', ylabel='count'>"
      ]
     },
     "execution_count": 73,
     "metadata": {},
     "output_type": "execute_result"
    },
    {
     "data": {
      "image/png": "[encoded data removed]",
      "text/plain": [
       "<Figure size 640x480 with 1 Axes>"
      ]
     },
     "metadata": {},
     "output_type": "display_data"
    }
   ],
   "source": [
    "sns.countplot(x='emp_length', data=charged_off)"
   ]
  },
  {
   "cell_type": "code",
   "execution_count": 80,
   "id": "b739e596",
   "metadata": {},
   "outputs": [
    {
     "data": {
      "text/plain": [
       "<AxesSubplot:xlabel='emp_length', ylabel='loan_amnt'>"
      ]
     },
     "execution_count": 80,
     "metadata": {},
     "output_type": "execute_result"
    },
    {
     "data": {
      "image/png": "[encoded data removed]",
      "text/plain": [
       "<Figure size 640x480 with 1 Axes>"
      ]
     },
     "metadata": {},
     "output_type": "display_data"
    }
   ],
   "source": [
    "sns.barplot(x='emp_length', y='loan_amnt', data=charged_off)"
   ]
  },
  {
   "cell_type": "markdown",
   "id": "7a069b45",
   "metadata": {},
   "source": [
    "## Observation based on purpose\n",
    "- when `purpose` is taken into consideration\n",
    "\n",
    " **Charge Off**\n",
    " - people with purpose `debt_consolidation` is more likely to default `Charge Off`\n",
    " - people with purpose `home_improvement` and annual_inc of `60k-70k` are more likely to default."
   ]
  },
  {
   "cell_type": "code",
   "execution_count": 57,
   "id": "c6b67e63",
   "metadata": {},
   "outputs": [
    {
     "data": {
      "text/plain": [
       "['car',\n",
       " 'credit_card',\n",
       " 'debt_consolidation',\n",
       " 'educational',\n",
       " 'home_improvement',\n",
       " 'house',\n",
       " 'major_purchase',\n",
       " 'medical',\n",
       " 'moving',\n",
       " 'other',\n",
       " 'renewable_energy',\n",
       " 'small_business',\n",
       " 'vacation',\n",
       " 'wedding']"
      ]
     },
     "execution_count": 57,
     "metadata": {},
     "output_type": "execute_result"
    }
   ],
   "source": [
    "keys = sorted(charged_off.purpose.unique())\n",
    "keys"
   ]
  },
  {
   "cell_type": "code",
   "execution_count": 58,
   "id": "dfea9f96",
   "metadata": {},
   "outputs": [
    {
     "data": {
      "text/plain": [
       "<AxesSubplot:xlabel='count', ylabel='purpose'>"
      ]
     },
     "execution_count": 58,
     "metadata": {},
     "output_type": "execute_result"
    },
    {
     "data": {
      "image/png": "[encoded data removed]",
      "text/plain": [
       "<Figure size 640x480 with 1 Axes>"
      ]
     },
     "metadata": {},
     "output_type": "display_data"
    }
   ],
   "source": [
    "sns.countplot(y='purpose', data=charged_off)"
   ]
  },
  {
   "cell_type": "code",
   "execution_count": 59,
   "id": "a659f4b0",
   "metadata": {},
   "outputs": [
    {
     "data": {
      "text/plain": [
       "<AxesSubplot:xlabel='annual_inc', ylabel='purpose'>"
      ]
     },
     "execution_count": 59,
     "metadata": {},
     "output_type": "execute_result"
    },
    {
     "data": {
      "image/png": "[encoded data removed]",
      "text/plain": [
       "<Figure size 640x480 with 1 Axes>"
      ]
     },
     "metadata": {},
     "output_type": "display_data"
    }
   ],
   "source": [
    "sns.barplot(x='annual_inc', y='purpose', data=charged_off)"
   ]
  },
  {
   "cell_type": "markdown",
   "id": "3624d8a0",
   "metadata": {},
   "source": [
    "## Observation based home_ownership\n",
    "- when `home_ownership` is taken into consideration\n",
    "\n",
    " **Charge Off**\n",
    " - people with `RENT` are more likely to default `Charge Off`\n",
    " - people with `MORTAGE` and with loan_amnt of `12k-14k` are more likely to default `Charged Off`"
   ]
  },
  {
   "cell_type": "code",
   "execution_count": 60,
   "id": "71630d11",
   "metadata": {},
   "outputs": [
    {
     "data": {
      "text/plain": [
       "array(['RENT', 'OWN', 'MORTGAGE', 'OTHER'], dtype=object)"
      ]
     },
     "execution_count": 60,
     "metadata": {},
     "output_type": "execute_result"
    }
   ],
   "source": [
    "charged_off.home_ownership.unique()"
   ]
  },
  {
   "cell_type": "code",
   "execution_count": 61,
   "id": "796670ba",
   "metadata": {},
   "outputs": [
    {
     "data": {
      "text/plain": [
       "<AxesSubplot:xlabel='home_ownership', ylabel='count'>"
      ]
     },
     "execution_count": 61,
     "metadata": {},
     "output_type": "execute_result"
    },
    {
     "data": {
      "image/png": "[encoded data removed]",
      "text/plain": [
       "<Figure size 640x480 with 1 Axes>"
      ]
     },
     "metadata": {},
     "output_type": "display_data"
    }
   ],
   "source": [
    "sns.countplot(x='home_ownership', data=charged_off)"
   ]
  },
  {
   "cell_type": "code",
   "execution_count": 78,
   "id": "918cc6b2",
   "metadata": {},
   "outputs": [
    {
     "data": {
      "text/plain": [
       "<AxesSubplot:xlabel='home_ownership', ylabel='loan_amnt'>"
      ]
     },
     "execution_count": 78,
     "metadata": {},
     "output_type": "execute_result"
    },
    {
     "data": {
      "image/png": "[encoded data removed]",
      "text/plain": [
       "<Figure size 640x480 with 1 Axes>"
      ]
     },
     "metadata": {},
     "output_type": "display_data"
    }
   ],
   "source": [
    "sns.barplot(x='home_ownership', y='loan_amnt', data=charged_off)"
   ]
  },
  {
   "cell_type": "markdown",
   "id": "26bbb1e5",
   "metadata": {},
   "source": [
    "## Observation based on grade and sub_grade:\n",
    "- when `grade` and `sub_grade` are taken into consideration\n",
    "\n",
    " **Charge Off**\n",
    " - people grade `B` is more likely to default `Charge Off`\n",
    " - people sub_grade `B5` is more likely to  default `Charge Off`"
   ]
  },
  {
   "cell_type": "code",
   "execution_count": 63,
   "id": "6b8bf555",
   "metadata": {},
   "outputs": [],
   "source": [
    "order = sorted(charged_off.grade.unique())"
   ]
  },
  {
   "cell_type": "code",
   "execution_count": 64,
   "id": "2fca5783",
   "metadata": {},
   "outputs": [
    {
     "data": {
      "text/plain": [
       "<AxesSubplot:xlabel='grade', ylabel='count'>"
      ]
     },
     "execution_count": 64,
     "metadata": {},
     "output_type": "execute_result"
    },
    {
     "data": {
      "image/png": "[encoded data removed]",
      "text/plain": [
       "<Figure size 640x480 with 1 Axes>"
      ]
     },
     "metadata": {},
     "output_type": "display_data"
    }
   ],
   "source": [
    "sns.countplot(x='grade', order=order, hue='sub_grade', data=charged_off)"
   ]
  },
  {
   "cell_type": "markdown",
   "id": "4303bd99",
   "metadata": {},
   "source": [
    "### Uni-Variate Observations\n",
    "- People with annual income 30k-60k are more likely to default.\n",
    "- People with sanctioned loan amount of 5k-10k are more likely to default.\n",
    "- People with term period of 36 months are more likely to default.\n",
    "- People Not Verified are more likely to default.\n",
    "- People with interest rate of 13%-17% are more likely to default.\n",
    "- People with work experience of 10/10+ years are more likely to default.\n",
    "- People who apply loan for clearing other loan are more likely to default.\n",
    "- People with RENT are more likely to default.\n",
    "- People under B5 grade are more likey to default."
   ]
  },
  {
   "cell_type": "markdown",
   "id": "4bd093d8",
   "metadata": {},
   "source": [
    "### Bi-Variate Observations\n",
    "- people who sanctioned with 17500 - 20000 and having an annual income of 105k-135k are more likely to default.\n",
    "- people with loan_amnt 14k-16k with term period of 60 months are more likely to default.\n",
    "- people with loan_amnt 20k-35k with int_rate of 15%-17% are more likely to default.\n",
    "- people with 10 years of exp and having 12k-14k loan_amnt are more likely to default.\n",
    "- people with purpose home_improvement and annual_inc of 60k-70k are more likely to default.\n",
    "- people with MORTAGE and with loan_amnt of 12k-14k are more likely to default.\n",
    "- people Verified and with 60k+ annual_inc are more likely to default."
   ]
  },
  {
   "cell_type": "markdown",
   "id": "0afe3deb",
   "metadata": {},
   "source": [
    "## References\n",
    "1. https://pandas.pydata.org/docs/reference/api/pandas.DataFrame.dropna.html\n",
    "2. https://pandas.pydata.org/docs/reference/api/pandas.cut.html"
   ]
  }
 ],
 "metadata": {
  "kernelspec": {
   "display_name": "Python 3 (ipykernel)",
   "language": "python",
   "name": "python3"
  },
  "language_info": {
   "codemirror_mode": {
    "name": "ipython",
    "version": 3
   },
   "file_extension": ".py",
   "mimetype": "text/x-python",
   "name": "python",
   "nbconvert_exporter": "python",
   "pygments_lexer": "ipython3",
   "version": "3.10.6"
  }
 },
 "nbformat": 4,
 "nbformat_minor": 5
}
